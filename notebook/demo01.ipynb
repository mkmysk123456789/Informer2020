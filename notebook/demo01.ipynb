{
 "cells": [
  {
   "cell_type": "code",
   "execution_count": 1,
   "metadata": {
    "scrolled": true
   },
   "outputs": [
    {
     "name": "stdout",
     "output_type": "stream",
     "text": [
      "LICENSE          \u001b[34mdata\u001b[m\u001b[m             \u001b[34mimg\u001b[m\u001b[m              requirements.txt\n",
      "README.md        demo01.ipynb     main_informer.py \u001b[34mscripts\u001b[m\u001b[m\n",
      "\u001b[34mcheckpoints\u001b[m\u001b[m      \u001b[34mexp\u001b[m\u001b[m              \u001b[34mmodels\u001b[m\u001b[m           \u001b[34mutils\u001b[m\u001b[m\n"
     ]
    }
   ],
   "source": [
    "!ls"
   ]
  },
  {
   "cell_type": "code",
   "execution_count": 1,
   "metadata": {
    "scrolled": false
   },
   "outputs": [
    {
     "name": "stdout",
     "output_type": "stream",
     "text": [
      "Args in experiment:\n",
      "Namespace(activation='gelu', attn='prob', batch_size=32, c_out=7, checkpoints='./checkpoints/', cols=None, d_ff=2048, d_layers=1, d_model=512, data='ETTh1', data_path='ETTh1.csv', dec_in=7, des='test', detail_freq='h', devices='0,1,2,3', distil=True, do_predict=False, dropout=0.05, e_layers=2, embed='timeF', enc_in=7, factor=5, features='M', freq='h', gpu=0, inverse=False, itr=2, label_len=48, learning_rate=0.0001, loss='mse', lradj='type1', mix=True, model='informer', n_heads=8, num_workers=0, output_attention=False, padding=0, patience=3, pred_len=24, root_path='./data/ETT/', s_layers=[3, 2, 1], seq_len=96, target='OT', train_epochs=6, use_amp=False, use_gpu=True, use_multi_gpu=False)\n",
      "Use GPU: cuda:0\n",
      ">>>>>>>start training : informer_ETTh1_ftM_sl96_ll48_pl24_dm512_nh8_el2_dl1_df2048_atprob_fc5_ebtimeF_dtTrue_mxTrue_test_0>>>>>>>>>>>>>>>>>>>>>>>>>>\n",
      "train 8521\n",
      "val 2857\n",
      "test 2857\n",
      "\titers: 100, epoch: 1 | loss: 0.3734937\n",
      "\tspeed: 0.0474s/iter; left time: 70.9090s\n",
      "\titers: 200, epoch: 1 | loss: 0.3412929\n",
      "\tspeed: 0.0472s/iter; left time: 65.9166s\n",
      "Epoch: 1 cost time: 12.578707695007324\n",
      "Epoch: 1, Steps: 266 | Train Loss: 0.4119832 Vali Loss: 0.6881021 Test Loss: 0.5975857\n",
      "Validation loss decreased (inf --> 0.688102).  Saving model ...\n",
      "Updating learning rate to 0.0001\n",
      "\titers: 100, epoch: 2 | loss: 0.2889146\n",
      "\tspeed: 0.1116s/iter; left time: 137.3852s\n",
      "\titers: 200, epoch: 2 | loss: 0.2415695\n",
      "\tspeed: 0.0476s/iter; left time: 53.8794s\n",
      "Epoch: 2 cost time: 12.698635816574097\n",
      "Epoch: 2, Steps: 266 | Train Loss: 0.2553398 Vali Loss: 0.6242066 Test Loss: 0.6041751\n",
      "Validation loss decreased (0.688102 --> 0.624207).  Saving model ...\n",
      "Updating learning rate to 5e-05\n",
      "\titers: 100, epoch: 3 | loss: 0.1729042\n",
      "\tspeed: 0.1125s/iter; left time: 108.5460s\n",
      "\titers: 200, epoch: 3 | loss: 0.1804367\n",
      "\tspeed: 0.0480s/iter; left time: 41.4873s\n",
      "Epoch: 3 cost time: 12.762995481491089\n",
      "Epoch: 3, Steps: 266 | Train Loss: 0.1997008 Vali Loss: 0.6843289 Test Loss: 0.5567225\n",
      "EarlyStopping counter: 1 out of 3\n",
      "Updating learning rate to 2.5e-05\n",
      "\titers: 100, epoch: 4 | loss: 0.1676990\n",
      "\tspeed: 0.1117s/iter; left time: 78.0939s\n",
      "\titers: 200, epoch: 4 | loss: 0.1701478\n",
      "\tspeed: 0.0480s/iter; left time: 28.7512s\n",
      "Epoch: 4 cost time: 12.76089358329773\n",
      "Epoch: 4, Steps: 266 | Train Loss: 0.1732520 Vali Loss: 0.7108098 Test Loss: 0.6074445\n",
      "EarlyStopping counter: 2 out of 3\n",
      "Updating learning rate to 1.25e-05\n",
      "\titers: 100, epoch: 5 | loss: 0.1576839\n",
      "\tspeed: 0.1119s/iter; left time: 48.4615s\n",
      "\titers: 200, epoch: 5 | loss: 0.1605037\n",
      "\tspeed: 0.0480s/iter; left time: 15.9847s\n",
      "Epoch: 5 cost time: 12.760353088378906\n",
      "Epoch: 5, Steps: 266 | Train Loss: 0.1588199 Vali Loss: 0.7060362 Test Loss: 0.6262894\n",
      "EarlyStopping counter: 3 out of 3\n",
      "Early stopping\n",
      ">>>>>>>testing : informer_ETTh1_ftM_sl96_ll48_pl24_dm512_nh8_el2_dl1_df2048_atprob_fc5_ebtimeF_dtTrue_mxTrue_test_0<<<<<<<<<<<<<<<<<<<<<<<<<<<<<<<<<\n",
      "test 2857\n",
      "test shape: (89, 32, 24, 7) (89, 32, 24, 7)\n",
      "test shape: (2848, 24, 7) (2848, 24, 7)\n",
      "mse:0.6050876975059509, mae:0.5717400908470154\n",
      "Use GPU: cuda:0\n",
      ">>>>>>>start training : informer_ETTh1_ftM_sl96_ll48_pl24_dm512_nh8_el2_dl1_df2048_atprob_fc5_ebtimeF_dtTrue_mxTrue_test_1>>>>>>>>>>>>>>>>>>>>>>>>>>\n",
      "train 8521\n",
      "val 2857\n",
      "test 2857\n",
      "\titers: 100, epoch: 1 | loss: 0.4097442\n",
      "\tspeed: 0.0478s/iter; left time: 71.6028s\n",
      "\titers: 200, epoch: 1 | loss: 0.2883816\n",
      "\tspeed: 0.0480s/iter; left time: 67.0321s\n",
      "Epoch: 1 cost time: 12.776634693145752\n",
      "Epoch: 1, Steps: 266 | Train Loss: 0.4083437 Vali Loss: 0.6620774 Test Loss: 0.6270092\n",
      "Validation loss decreased (inf --> 0.662077).  Saving model ...\n",
      "Updating learning rate to 0.0001\n",
      "\titers: 100, epoch: 2 | loss: 0.2682557\n",
      "\tspeed: 0.1138s/iter; left time: 140.0377s\n",
      "\titers: 200, epoch: 2 | loss: 0.2110414\n",
      "\tspeed: 0.0480s/iter; left time: 54.3373s\n",
      "Epoch: 2 cost time: 12.772722959518433\n",
      "Epoch: 2, Steps: 266 | Train Loss: 0.2528652 Vali Loss: 0.6649579 Test Loss: 0.5733802\n",
      "EarlyStopping counter: 1 out of 3\n",
      "Updating learning rate to 5e-05\n",
      "\titers: 100, epoch: 3 | loss: 0.1827347\n",
      "\tspeed: 0.1124s/iter; left time: 108.4624s\n",
      "\titers: 200, epoch: 3 | loss: 0.2497789\n",
      "\tspeed: 0.0496s/iter; left time: 42.9101s\n",
      "Epoch: 3 cost time: 13.202050685882568\n",
      "Epoch: 3, Steps: 266 | Train Loss: 0.1960611 Vali Loss: 0.6488522 Test Loss: 0.5790827\n",
      "Validation loss decreased (0.662077 --> 0.648852).  Saving model ...\n",
      "Updating learning rate to 2.5e-05\n",
      "\titers: 100, epoch: 4 | loss: 0.1641744\n",
      "\tspeed: 0.1164s/iter; left time: 81.3603s\n",
      "\titers: 200, epoch: 4 | loss: 0.1606449\n",
      "\tspeed: 0.0480s/iter; left time: 28.7765s\n",
      "Epoch: 4 cost time: 12.772540092468262\n",
      "Epoch: 4, Steps: 266 | Train Loss: 0.1699800 Vali Loss: 0.6505865 Test Loss: 0.5365159\n",
      "EarlyStopping counter: 1 out of 3\n",
      "Updating learning rate to 1.25e-05\n",
      "\titers: 100, epoch: 5 | loss: 0.1615278\n",
      "\tspeed: 0.1126s/iter; left time: 48.7389s\n",
      "\titers: 200, epoch: 5 | loss: 0.1494571\n",
      "\tspeed: 0.0480s/iter; left time: 15.9749s\n",
      "Epoch: 5 cost time: 12.779054641723633\n",
      "Epoch: 5, Steps: 266 | Train Loss: 0.1563869 Vali Loss: 0.6799754 Test Loss: 0.6054480\n",
      "EarlyStopping counter: 2 out of 3\n",
      "Updating learning rate to 6.25e-06\n",
      "\titers: 100, epoch: 6 | loss: 0.1294835\n",
      "\tspeed: 0.1124s/iter; left time: 18.7748s\n",
      "\titers: 200, epoch: 6 | loss: 0.1502706\n",
      "\tspeed: 0.0481s/iter; left time: 3.2243s\n",
      "Epoch: 6 cost time: 12.78959345817566\n",
      "Epoch: 6, Steps: 266 | Train Loss: 0.1504953 Vali Loss: 0.6858959 Test Loss: 0.5966101\n",
      "EarlyStopping counter: 3 out of 3\n",
      "Early stopping\n",
      ">>>>>>>testing : informer_ETTh1_ftM_sl96_ll48_pl24_dm512_nh8_el2_dl1_df2048_atprob_fc5_ebtimeF_dtTrue_mxTrue_test_1<<<<<<<<<<<<<<<<<<<<<<<<<<<<<<<<<\n",
      "test 2857\n",
      "test shape: (89, 32, 24, 7) (89, 32, 24, 7)\n",
      "test shape: (2848, 24, 7) (2848, 24, 7)\n",
      "mse:0.5789167881011963, mae:0.5506375432014465\n"
     ]
    }
   ],
   "source": [
    "!python3 -u main_informer.py --model informer --data ETTh1 --attn prob --freq h"
   ]
  },
  {
   "cell_type": "code",
   "execution_count": null,
   "metadata": {},
   "outputs": [],
   "source": []
  }
 ],
 "metadata": {
  "kernelspec": {
   "display_name": "Python 3",
   "language": "python",
   "name": "python3"
  },
  "language_info": {
   "codemirror_mode": {
    "name": "ipython",
    "version": 3
   },
   "file_extension": ".py",
   "mimetype": "text/x-python",
   "name": "python",
   "nbconvert_exporter": "python",
   "pygments_lexer": "ipython3",
   "version": "3.6.9"
  }
 },
 "nbformat": 4,
 "nbformat_minor": 2
}
