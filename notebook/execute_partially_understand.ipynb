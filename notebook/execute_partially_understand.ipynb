{
 "metadata": {
  "language_info": {
   "codemirror_mode": {
    "name": "ipython",
    "version": 3
   },
   "file_extension": ".py",
   "mimetype": "text/x-python",
   "name": "python",
   "nbconvert_exporter": "python",
   "pygments_lexer": "ipython3",
   "version": "3.8.8"
  },
  "orig_nbformat": 4,
  "kernelspec": {
   "name": "python3",
   "display_name": "Python 3.8.8 64-bit ('base': conda)"
  },
  "interpreter": {
   "hash": "dca0ade3e726a953b501b15e8e990130d2b7799f14cfd9f4271676035ebe5511"
  }
 },
 "nbformat": 4,
 "nbformat_minor": 2,
 "cells": [
  {
   "cell_type": "code",
   "execution_count": 1,
   "metadata": {},
   "outputs": [],
   "source": [
    "import torch\n",
    "import torch.nn as nn"
   ]
  },
  {
   "cell_type": "code",
   "execution_count": 4,
   "metadata": {},
   "outputs": [
    {
     "output_type": "execute_result",
     "data": {
      "text/plain": [
       "tensor([[0., 1., 2., 3., 4., 5., 6., 7., 8., 9.]])"
      ]
     },
     "metadata": {},
     "execution_count": 4
    }
   ],
   "source": [
    "position = torch.arange(0, 10).float().unsqueeze(0)\n",
    "position"
   ]
  },
  {
   "cell_type": "code",
   "execution_count": 6,
   "metadata": {},
   "outputs": [
    {
     "output_type": "execute_result",
     "data": {
      "text/plain": [
       "3"
      ]
     },
     "metadata": {},
     "execution_count": 6
    }
   ],
   "source": [
    "b = torch.tensor([[1,2],[3,4],[4,5]])\n",
    "b.size(0)"
   ]
  },
  {
   "cell_type": "code",
   "execution_count": 43,
   "metadata": {},
   "outputs": [
    {
     "output_type": "execute_result",
     "data": {
      "text/plain": [
       "tensor([[[ 1., 20., 30.,  0.],\n",
       "         [ 9.,  0., 40.,  0.],\n",
       "         [10.,  0.,  0.,  0.],\n",
       "         [ 5.,  0.,  0.,  0.]],\n",
       "\n",
       "        [[ 2.,  0.,  0.,  0.],\n",
       "         [ 0.,  0.,  0.,  0.],\n",
       "         [ 0.,  0.,  0.,  0.],\n",
       "         [ 6.,  0.,  0.,  0.]],\n",
       "\n",
       "        [[ 3.,  0.,  0.,  0.],\n",
       "         [ 0.,  0.,  0.,  0.],\n",
       "         [ 0.,  0.,  0.,  0.],\n",
       "         [ 7.,  0.,  0.,  0.]],\n",
       "\n",
       "        [[ 4.,  0.,  0.,  0.],\n",
       "         [ 0.,  0.,  0.,  0.],\n",
       "         [ 0.,  0.,  0.,  0.],\n",
       "         [ 8.,  0.,  0.,  0.]]])"
      ]
     },
     "metadata": {},
     "execution_count": 43
    }
   ],
   "source": [
    "a = torch.tensor([[[1., 20.,30., 0.],\n",
    "         [9., 0., 40., 0.],\n",
    "         [10., 0., 0., 0.],\n",
    "         [5., 0., 0., 0.]],\n",
    "\n",
    "        [[2., 0., 0., 0.],\n",
    "         [0., 0., 0., 0.],\n",
    "         [0., 0., 0., 0.],\n",
    "         [6., 0., 0., 0.]],\n",
    "\n",
    "        [[3., 0., 0., 0.],\n",
    "         [0., 0., 0., 0.],\n",
    "         [0., 0., 0., 0.],\n",
    "         [7., 0., 0., 0.]],\n",
    "\n",
    "        [[4., 0., 0., 0.],\n",
    "         [0., 0., 0., 0.],\n",
    "         [0., 0., 0., 0.],\n",
    "         [8., 0., 0., 0.]]])\n",
    "a"
   ]
  },
  {
   "cell_type": "code",
   "execution_count": 48,
   "metadata": {},
   "outputs": [
    {
     "output_type": "execute_result",
     "data": {
      "text/plain": [
       "tensor([[30., 40.,  0.,  0.],\n",
       "        [ 0.,  0.,  0.,  0.],\n",
       "        [ 0.,  0.,  0.,  0.],\n",
       "        [ 0.,  0.,  0.,  0.]])"
      ]
     },
     "metadata": {},
     "execution_count": 48
    }
   ],
   "source": [
    "a[:,:,2]"
   ]
  },
  {
   "cell_type": "code",
   "execution_count": 12,
   "metadata": {},
   "outputs": [
    {
     "output_type": "stream",
     "name": "stdout",
     "text": [
      "torch.Size([32, 7, 96])\n"
     ]
    },
    {
     "output_type": "execute_result",
     "data": {
      "text/plain": [
       "torch.Size([32, 512, 96])"
      ]
     },
     "metadata": {},
     "execution_count": 12
    }
   ],
   "source": [
    "m = nn.Conv1d(7, 512,3,padding=1)\n",
    "input = torch.randn(32, 96, 7)\n",
    "input = input.transpose(1, 2)\n",
    "print(input.shape)\n",
    "output = m(input)\n",
    "output.shape\n"
   ]
  },
  {
   "cell_type": "code",
   "execution_count": 5,
   "metadata": {},
   "outputs": [
    {
     "output_type": "execute_result",
     "data": {
      "text/plain": [
       "True"
      ]
     },
     "metadata": {},
     "execution_count": 5
    }
   ],
   "source": [
    "from pandas.tseries.frequencies import to_offset\n",
    "from pandas.tseries import offsets\n",
    "\n",
    "offset = to_offset(\"h\")\n",
    "offset\n",
    "\n",
    "isinstance(offset, offsets.Hour)\n"
   ]
  },
  {
   "cell_type": "code",
   "execution_count": 2,
   "metadata": {},
   "outputs": [
    {
     "output_type": "execute_result",
     "data": {
      "text/plain": [
       "array([0, 1, 2, 3, 4, 5, 6, 7, 8, 9])"
      ]
     },
     "metadata": {},
     "execution_count": 2
    }
   ],
   "source": [
    "import numpy as np \n",
    "a = np.arange(0,10)\n",
    "a"
   ]
  },
  {
   "cell_type": "code",
   "execution_count": 3,
   "metadata": {},
   "outputs": [
    {
     "output_type": "execute_result",
     "data": {
      "text/plain": [
       "array([8, 9])"
      ]
     },
     "metadata": {},
     "execution_count": 3
    }
   ],
   "source": [
    "a[-2:]"
   ]
  },
  {
   "source": [
    "# einsumのテスト\n"
   ],
   "cell_type": "markdown",
   "metadata": {}
  },
  {
   "cell_type": "code",
   "execution_count": 2,
   "metadata": {},
   "outputs": [],
   "source": [
    "import torch\n",
    "import torch.nn as nn"
   ]
  },
  {
   "cell_type": "code",
   "execution_count": 17,
   "metadata": {},
   "outputs": [
    {
     "output_type": "stream",
     "name": "stdout",
     "text": [
      "Key\ntorch.Size([32, 96, 30])\nWeight\ntorch.Size([32, 96, 96, 30])\nOutput\ntorch.Size([32, 96, 30])\n"
     ]
    }
   ],
   "source": [
    "Key = torch.randn(32,96,30)\n",
    "Query = torch.randn(32,96,30)\n",
    "Value = torch.randn(32,96,30)\n",
    "\n",
    "print(\"Key\")\n",
    "print(Key.shape)\n",
    "\n",
    "Weight = torch.einsum(\"blp,bsq->bslq\", Key, Query)\n",
    "\n",
    "print(\"Weight\")\n",
    "print(Weight.shape)\n",
    "\n",
    "Output = torch.einsum(\"blsp,bsq->blq\", Weight, Value)\n",
    "\n",
    "print(\"Output\")\n",
    "print(Output.shape)\n",
    "\n"
   ]
  },
  {
   "cell_type": "code",
   "execution_count": 44,
   "metadata": {},
   "outputs": [
    {
     "output_type": "stream",
     "name": "stdout",
     "text": [
      "torch.Size([0])\n0\ntorch.Size([32, 96])\ntorch.Size([32, 96])\n1\ntorch.Size([32, 96])\n"
     ]
    },
    {
     "output_type": "error",
     "ename": "RuntimeError",
     "evalue": "stack expects each tensor to be equal size, but got [32, 96] at entry 0 and [32, 96, 1] at entry 1",
     "traceback": [
      "\u001b[0;31m---------------------------------------------------------------------------\u001b[0m",
      "\u001b[0;31mRuntimeError\u001b[0m                              Traceback (most recent call last)",
      "\u001b[0;32m<ipython-input-44-552560f836d3>\u001b[0m in \u001b[0;36m<module>\u001b[0;34m\u001b[0m\n\u001b[1;32m     12\u001b[0m     \u001b[0;32melse\u001b[0m\u001b[0;34m:\u001b[0m\u001b[0;34m\u001b[0m\u001b[0;34m\u001b[0m\u001b[0m\n\u001b[1;32m     13\u001b[0m         \u001b[0;31m# x[:,:,i] = torch.unsqueeze(x[:,:,i],dim=2)\u001b[0m\u001b[0;34m\u001b[0m\u001b[0;34m\u001b[0m\u001b[0;34m\u001b[0m\u001b[0m\n\u001b[0;32m---> 14\u001b[0;31m         \u001b[0moutput\u001b[0m \u001b[0;34m=\u001b[0m \u001b[0mtorch\u001b[0m\u001b[0;34m.\u001b[0m\u001b[0mstack\u001b[0m\u001b[0;34m(\u001b[0m\u001b[0;34m[\u001b[0m\u001b[0moutput\u001b[0m\u001b[0;34m,\u001b[0m\u001b[0mtorch\u001b[0m\u001b[0;34m.\u001b[0m\u001b[0munsqueeze\u001b[0m\u001b[0;34m(\u001b[0m\u001b[0mx\u001b[0m\u001b[0;34m[\u001b[0m\u001b[0;34m:\u001b[0m\u001b[0;34m,\u001b[0m\u001b[0;34m:\u001b[0m\u001b[0;34m,\u001b[0m\u001b[0mi\u001b[0m\u001b[0;34m]\u001b[0m\u001b[0;34m,\u001b[0m\u001b[0mdim\u001b[0m\u001b[0;34m=\u001b[0m\u001b[0;36m2\u001b[0m\u001b[0;34m)\u001b[0m\u001b[0;34m]\u001b[0m\u001b[0;34m,\u001b[0m\u001b[0mdim\u001b[0m\u001b[0;34m=\u001b[0m\u001b[0;36m2\u001b[0m\u001b[0;34m)\u001b[0m\u001b[0;34m\u001b[0m\u001b[0;34m\u001b[0m\u001b[0m\n\u001b[0m\u001b[1;32m     15\u001b[0m \u001b[0;34m\u001b[0m\u001b[0m\n\u001b[1;32m     16\u001b[0m     \u001b[0mprint\u001b[0m\u001b[0;34m(\u001b[0m\u001b[0moutput\u001b[0m\u001b[0;34m.\u001b[0m\u001b[0mshape\u001b[0m\u001b[0;34m)\u001b[0m\u001b[0;34m\u001b[0m\u001b[0;34m\u001b[0m\u001b[0m\n",
      "\u001b[0;31mRuntimeError\u001b[0m: stack expects each tensor to be equal size, but got [32, 96] at entry 0 and [32, 96, 1] at entry 1"
     ]
    }
   ],
   "source": [
    "x = torch.randn(32,96,7)\n",
    "\n",
    "output = torch.tensor([])\n",
    "\n",
    "print(output.shape)\n",
    "\n",
    "for i in range(7):\n",
    "    print(i)\n",
    "    print(x[:,:,i].shape)\n",
    "    if i == 0:\n",
    "        output = x[:,:,i]\n",
    "    else:\n",
    "        # x[:,:,i] = torch.unsqueeze(x[:,:,i],dim=2)\n",
    "        output = torch.stack([output,torch.unsqueeze(x[:,:,i],dim=2)],dim=2)\n",
    "\n",
    "    print(output.shape)\n",
    "\n",
    "# for feature in x[:,:,]:\n",
    "#     print(feature.shape)"
   ]
  },
  {
   "cell_type": "code",
   "execution_count": 53,
   "metadata": {},
   "outputs": [
    {
     "output_type": "stream",
     "name": "stdout",
     "text": [
      "torch.Size([0])\ntorch.Size([32, 96, 70])\n"
     ]
    }
   ],
   "source": [
    "output = torch.tensor([])\n",
    "\n",
    "print(output.shape)\n",
    "\n",
    "for i in range(7):\n",
    "    x_embed = torch.randn(32,96,10)\n",
    "    if i==0:\n",
    "        output = x_embed\n",
    "    else:\n",
    "        output = torch.cat([output,x_embed],dim=2)\n",
    "\n",
    "print(output.shape)\n"
   ]
  },
  {
   "cell_type": "code",
   "execution_count": 68,
   "metadata": {},
   "outputs": [
    {
     "output_type": "stream",
     "name": "stdout",
     "text": [
      "torch.Size([32, 96, 7])\n"
     ]
    }
   ],
   "source": [
    "\n",
    "x = torch.randn(32,96,7)\n",
    "\n",
    "x = x.transpose(2,0)\n",
    "\n",
    "output = torch.stack([ xi for xi in x])\n",
    "\n",
    "output = output.transpose(2,0)\n",
    "\n",
    "print(output.shape)"
   ]
  },
  {
   "cell_type": "code",
   "execution_count": 70,
   "metadata": {},
   "outputs": [
    {
     "output_type": "stream",
     "name": "stdout",
     "text": [
      "torch.Size([96, 32, 7])\n"
     ]
    }
   ],
   "source": [
    "x = torch.randn(32,96,7)\n",
    "\n",
    "\n",
    "output = torch.stack([ xi for xi in x],dim=1)\n",
    "\n",
    "\n",
    "print(output.shape)"
   ]
  },
  {
   "cell_type": "code",
   "execution_count": 75,
   "metadata": {},
   "outputs": [
    {
     "output_type": "stream",
     "name": "stdout",
     "text": [
      "torch.Size([32, 1, 96])\n"
     ]
    }
   ],
   "source": [
    "x = torch.randn(32,96)\n",
    "\n",
    "x = x.unsqueeze(1)\n",
    "\n",
    "print(x.size())"
   ]
  },
  {
   "cell_type": "code",
   "execution_count": 1,
   "metadata": {},
   "outputs": [],
   "source": [
    "import torch\n",
    "import torch.nn as nn"
   ]
  },
  {
   "cell_type": "code",
   "execution_count": 4,
   "metadata": {},
   "outputs": [
    {
     "output_type": "stream",
     "name": "stdout",
     "text": [
      "tensor([[[-0.2826,  3.2298,  0.0380,  ..., -0.2450,  1.7257,  0.2071],\n         [ 0.7381,  2.3802, -1.8642,  ...,  0.0525, -0.0237,  1.0749],\n         [-1.7073,  1.3168, -2.2125,  ...,  0.9162,  0.4918,  0.1191],\n         ...,\n         [-0.7566,  3.5409, -0.5225,  ..., -0.2412,  0.5538,  0.9229],\n         [ 0.4341,  1.1225, -2.6539,  ..., -0.5934,  2.0410,  0.1020],\n         [ 1.3712,  2.7784, -1.4802,  ..., -0.9743,  1.0847, -0.4185]],\n\n        [[ 0.4161, -0.6704, -0.7082,  ..., -3.3971,  1.6697,  0.5408],\n         [ 3.1008, -1.5138, -1.6659,  ..., -1.6538,  0.3203,  2.1221],\n         [ 1.4358, -1.5048, -0.8361,  ..., -2.0655,  2.1079,  0.6430],\n         ...,\n         [ 1.3879, -0.2303, -0.3796,  ..., -0.1197,  1.0635,  2.6048],\n         [ 0.6353, -0.8038, -1.0490,  ..., -2.6092,  1.2127,  2.3631],\n         [ 1.5164, -0.8600, -1.7247,  ..., -0.8739,  1.8617,  0.9046]],\n\n        [[ 1.6951,  1.7699, -1.1079,  ..., -1.8755, -0.6096,  0.8794],\n         [ 1.1377, -1.3112, -1.5209,  ..., -0.3853, -1.9425, -0.5510],\n         [ 2.3207, -0.4875,  0.3099,  ...,  1.3078, -0.6848, -0.7871],\n         ...,\n         [ 3.6974,  1.4652, -1.5401,  ...,  0.1218, -0.6931, -0.1940],\n         [ 1.8825, -0.3587, -1.9564,  ...,  0.2190, -1.2452,  0.0453],\n         [ 1.6858,  1.4232, -0.4632,  ..., -0.5292, -1.3921,  1.2084]],\n\n        ...,\n\n        [[ 1.1743, -0.7484, -1.6043,  ...,  0.8181,  2.3059,  0.4993],\n         [ 1.0265, -2.4046, -0.1810,  ..., -1.0500,  1.0241,  2.2153],\n         [ 0.7359,  1.4411,  0.8809,  ...,  0.1053,  0.8164,  0.3937],\n         ...,\n         [-0.2009,  0.6129,  0.0280,  ..., -1.5510,  2.9774,  0.8240],\n         [ 0.3536, -1.7252, -0.5806,  ...,  0.1651,  0.4442,  0.6091],\n         [ 1.9487,  0.8566,  0.8207,  ..., -0.2873,  0.7114,  3.0505]],\n\n        [[-0.6218, -0.7455,  1.3738,  ..., -0.2426, -1.2401, -1.6265],\n         [-1.4789,  0.6378, -0.1090,  ..., -1.3843,  2.1122,  1.6903],\n         [-1.7581,  1.4818,  1.1148,  ..., -2.1760, -0.1569,  0.1916],\n         ...,\n         [ 0.5139,  0.5652, -0.3488,  ...,  1.0605,  0.3133,  0.7777],\n         [-2.1528, -1.5524,  0.5392,  ..., -0.0151, -1.1170,  1.4275],\n         [-1.6911,  1.2733,  0.0848,  ..., -2.1379,  1.2111,  1.8937]],\n\n        [[-1.8703, -2.0728, -0.8740,  ...,  0.8758, -0.8433, -3.9490],\n         [-1.8045, -0.4834, -2.3994,  ...,  2.1764, -0.9115, -3.6426],\n         [-1.6403, -1.5205,  1.1035,  ...,  0.7181,  2.0133, -2.1766],\n         ...,\n         [ 0.4377, -2.1790, -1.3703,  ...,  0.4375, -1.9603, -4.7609],\n         [-1.3957, -1.3333, -0.5662,  ..., -1.3709,  1.0500, -0.8632],\n         [-0.4809,  0.6477, -1.4107,  ..., -0.0924,  0.2088, -3.6860]]])\ntorch.Size([10, 32, 96])\n"
     ]
    }
   ],
   "source": [
    "# torch.Size([10, 1, 96]) + torch.Size([10, 32, 96]) \n",
    "x = torch.randn(10,1,96)\n",
    "y = torch.randn(10,32,96)\n",
    "\n",
    "print(x+y)\n",
    "\n",
    "xy = x+y\n",
    "\n",
    "print(xy.size())"
   ]
  },
  {
   "cell_type": "code",
   "execution_count": null,
   "metadata": {},
   "outputs": [],
   "source": []
  }
 ]
}